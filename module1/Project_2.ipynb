{
 "cells": [
  {
   "cell_type": "code",
   "execution_count": 41,
   "metadata": {},
   "outputs": [],
   "source": [
    "DATA_PATH = 'Project_2_Data.xlsx'"
   ]
  },
  {
   "cell_type": "code",
   "execution_count": 42,
   "metadata": {},
   "outputs": [],
   "source": [
    "import pandas as pd"
   ]
  },
  {
   "cell_type": "code",
   "execution_count": 43,
   "metadata": {},
   "outputs": [],
   "source": [
    "df = pd.read_excel(DATA_PATH)"
   ]
  },
  {
   "cell_type": "code",
   "execution_count": 44,
   "metadata": {},
   "outputs": [
    {
     "data": {
      "text/html": [
       "<div>\n",
       "<style scoped>\n",
       "    .dataframe tbody tr th:only-of-type {\n",
       "        vertical-align: middle;\n",
       "    }\n",
       "\n",
       "    .dataframe tbody tr th {\n",
       "        vertical-align: top;\n",
       "    }\n",
       "\n",
       "    .dataframe thead th {\n",
       "        text-align: right;\n",
       "    }\n",
       "</style>\n",
       "<table border=\"1\" class=\"dataframe\">\n",
       "  <thead>\n",
       "    <tr style=\"text-align: right;\">\n",
       "      <th></th>\n",
       "      <th>Club</th>\n",
       "      <th>League</th>\n",
       "      <th>Season</th>\n",
       "      <th>Expenditure</th>\n",
       "      <th>Income</th>\n",
       "      <th>Net</th>\n",
       "      <th>Points</th>\n",
       "      <th>Expenditure per Point</th>\n",
       "      <th>Manager</th>\n",
       "      <th>Owner</th>\n",
       "    </tr>\n",
       "  </thead>\n",
       "  <tbody>\n",
       "    <tr>\n",
       "      <td>0</td>\n",
       "      <td>MCI</td>\n",
       "      <td>EPL</td>\n",
       "      <td>2019</td>\n",
       "      <td>-191.52</td>\n",
       "      <td>78.66</td>\n",
       "      <td>-112.86</td>\n",
       "      <td>0</td>\n",
       "      <td>0.0</td>\n",
       "      <td>Guardiola</td>\n",
       "      <td>City_Football</td>\n",
       "    </tr>\n",
       "    <tr>\n",
       "      <td>1</td>\n",
       "      <td>MAN</td>\n",
       "      <td>EPL</td>\n",
       "      <td>2019</td>\n",
       "      <td>-181.26</td>\n",
       "      <td>79.23</td>\n",
       "      <td>-102.03</td>\n",
       "      <td>0</td>\n",
       "      <td>0.0</td>\n",
       "      <td>Solsjkaer</td>\n",
       "      <td>Glazer</td>\n",
       "    </tr>\n",
       "    <tr>\n",
       "      <td>2</td>\n",
       "      <td>ARS</td>\n",
       "      <td>EPL</td>\n",
       "      <td>2019</td>\n",
       "      <td>-173.74</td>\n",
       "      <td>61.05</td>\n",
       "      <td>-112.69</td>\n",
       "      <td>0</td>\n",
       "      <td>0.0</td>\n",
       "      <td>Emery</td>\n",
       "      <td>Kroenke</td>\n",
       "    </tr>\n",
       "    <tr>\n",
       "      <td>3</td>\n",
       "      <td>AVL</td>\n",
       "      <td>EPL</td>\n",
       "      <td>2019</td>\n",
       "      <td>-169.40</td>\n",
       "      <td>0.00</td>\n",
       "      <td>-169.40</td>\n",
       "      <td>0</td>\n",
       "      <td>0.0</td>\n",
       "      <td>Smith</td>\n",
       "      <td>Sawiris</td>\n",
       "    </tr>\n",
       "    <tr>\n",
       "      <td>4</td>\n",
       "      <td>EVE</td>\n",
       "      <td>EPL</td>\n",
       "      <td>2019</td>\n",
       "      <td>-136.69</td>\n",
       "      <td>91.77</td>\n",
       "      <td>-44.92</td>\n",
       "      <td>0</td>\n",
       "      <td>0.0</td>\n",
       "      <td>Silva</td>\n",
       "      <td>Moshiri</td>\n",
       "    </tr>\n",
       "  </tbody>\n",
       "</table>\n",
       "</div>"
      ],
      "text/plain": [
       "  Club League  Season  Expenditure  Income     Net  Points  \\\n",
       "0  MCI    EPL    2019      -191.52   78.66 -112.86       0   \n",
       "1  MAN    EPL    2019      -181.26   79.23 -102.03       0   \n",
       "2  ARS    EPL    2019      -173.74   61.05 -112.69       0   \n",
       "3  AVL    EPL    2019      -169.40    0.00 -169.40       0   \n",
       "4  EVE    EPL    2019      -136.69   91.77  -44.92       0   \n",
       "\n",
       "   Expenditure per Point    Manager          Owner  \n",
       "0                    0.0  Guardiola  City_Football  \n",
       "1                    0.0  Solsjkaer         Glazer  \n",
       "2                    0.0      Emery        Kroenke  \n",
       "3                    0.0      Smith        Sawiris  \n",
       "4                    0.0      Silva        Moshiri  "
      ]
     },
     "execution_count": 44,
     "metadata": {},
     "output_type": "execute_result"
    }
   ],
   "source": [
    "df.head()"
   ]
  },
  {
   "cell_type": "code",
   "execution_count": 45,
   "metadata": {},
   "outputs": [],
   "source": [
    "# choose your target. which column in will you predict? \n",
    "# target: 2019 points\n",
    "\n",
    "#target = df[df['Points'] == 0]"
   ]
  },
  {
   "cell_type": "code",
   "execution_count": 46,
   "metadata": {},
   "outputs": [],
   "source": [
    "# regression or classification?\n",
    "# regression"
   ]
  },
  {
   "cell_type": "code",
   "execution_count": 47,
   "metadata": {},
   "outputs": [],
   "source": [
    "# evaluation metrics: MAE"
   ]
  },
  {
   "cell_type": "code",
   "execution_count": 48,
   "metadata": {},
   "outputs": [],
   "source": [
    "# split\n",
    "df['Season'] = pd.to_datetime(df['Season'])"
   ]
  },
  {
   "cell_type": "code",
   "execution_count": 80,
   "metadata": {},
   "outputs": [],
   "source": [
    "train = df[df['Season'].dt.year < 2018]\n",
    "val = df[df['Season'].dt.year == 2018]\n",
    "test = df[df['Points'] == 0]"
   ]
  },
  {
   "cell_type": "code",
   "execution_count": 81,
   "metadata": {},
   "outputs": [
    {
     "data": {
      "text/plain": [
       "((380, 10), (0, 10), (20, 10))"
      ]
     },
     "execution_count": 81,
     "metadata": {},
     "output_type": "execute_result"
    }
   ],
   "source": [
    "train.shape, val.shape, test.shape"
   ]
  },
  {
   "cell_type": "code",
   "execution_count": 51,
   "metadata": {},
   "outputs": [
    {
     "data": {
      "text/plain": [
       "Club                     0\n",
       "League                   0\n",
       "Season                   0\n",
       "Expenditure              0\n",
       "Income                   0\n",
       "Net                      0\n",
       "Points                   0\n",
       "Expenditure per Point    0\n",
       "Manager                  0\n",
       "Owner                    0\n",
       "dtype: int64"
      ]
     },
     "execution_count": 51,
     "metadata": {},
     "output_type": "execute_result"
    }
   ],
   "source": [
    "# null?\n",
    "df.isnull().sum().sort_values()"
   ]
  },
  {
   "cell_type": "code",
   "execution_count": 52,
   "metadata": {},
   "outputs": [
    {
     "data": {
      "text/plain": [
       "Club                      41\n",
       "League                     1\n",
       "Season                    19\n",
       "Expenditure              348\n",
       "Income                   333\n",
       "Net                      377\n",
       "Points                    75\n",
       "Expenditure per Point    357\n",
       "Manager                  123\n",
       "Owner                     64\n",
       "dtype: int64"
      ]
     },
     "execution_count": 52,
     "metadata": {},
     "output_type": "execute_result"
    }
   ],
   "source": [
    "df.nunique()"
   ]
  },
  {
   "cell_type": "code",
   "execution_count": 53,
   "metadata": {},
   "outputs": [
    {
     "data": {
      "text/plain": [
       "(380, 10)"
      ]
     },
     "execution_count": 53,
     "metadata": {},
     "output_type": "execute_result"
    }
   ],
   "source": [
    "df.shape"
   ]
  },
  {
   "cell_type": "code",
   "execution_count": 66,
   "metadata": {},
   "outputs": [
    {
     "name": "stdout",
     "output_type": "stream",
     "text": [
      "Empty DataFrame\n",
      "Columns: [Club, League, Season, Expenditure, Income, Net, Points, Expenditure per Point, Manager, Owner]\n",
      "Index: []\n"
     ]
    }
   ],
   "source": [
    "print(test)"
   ]
  },
  {
   "cell_type": "code",
   "execution_count": null,
   "metadata": {},
   "outputs": [],
   "source": []
  }
 ],
 "metadata": {
  "kernelspec": {
   "display_name": "Python 3",
   "language": "python",
   "name": "python3"
  },
  "language_info": {
   "codemirror_mode": {
    "name": "ipython",
    "version": 3
   },
   "file_extension": ".py",
   "mimetype": "text/x-python",
   "name": "python",
   "nbconvert_exporter": "python",
   "pygments_lexer": "ipython3",
   "version": "3.7.4"
  }
 },
 "nbformat": 4,
 "nbformat_minor": 4
}
