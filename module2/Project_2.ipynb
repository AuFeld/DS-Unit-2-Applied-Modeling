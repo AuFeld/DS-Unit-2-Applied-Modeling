{
 "cells": [
  {
   "cell_type": "code",
   "execution_count": 31,
   "metadata": {},
   "outputs": [],
   "source": [
    "DATA_PATH = 'Project_2_Data.xlsx'"
   ]
  },
  {
   "cell_type": "code",
   "execution_count": 32,
   "metadata": {},
   "outputs": [],
   "source": [
    "import pandas as pd"
   ]
  },
  {
   "cell_type": "code",
   "execution_count": 33,
   "metadata": {},
   "outputs": [],
   "source": [
    "df = pd.read_excel(DATA_PATH)"
   ]
  },
  {
   "cell_type": "code",
   "execution_count": 34,
   "metadata": {},
   "outputs": [
    {
     "data": {
      "text/html": [
       "<div>\n",
       "<style scoped>\n",
       "    .dataframe tbody tr th:only-of-type {\n",
       "        vertical-align: middle;\n",
       "    }\n",
       "\n",
       "    .dataframe tbody tr th {\n",
       "        vertical-align: top;\n",
       "    }\n",
       "\n",
       "    .dataframe thead th {\n",
       "        text-align: right;\n",
       "    }\n",
       "</style>\n",
       "<table border=\"1\" class=\"dataframe\">\n",
       "  <thead>\n",
       "    <tr style=\"text-align: right;\">\n",
       "      <th></th>\n",
       "      <th>Club</th>\n",
       "      <th>League</th>\n",
       "      <th>Season</th>\n",
       "      <th>Expenditure</th>\n",
       "      <th>Income</th>\n",
       "      <th>Net</th>\n",
       "      <th>Points</th>\n",
       "      <th>Expenditure per Point</th>\n",
       "      <th>Manager</th>\n",
       "      <th>Owner</th>\n",
       "    </tr>\n",
       "  </thead>\n",
       "  <tbody>\n",
       "    <tr>\n",
       "      <td>0</td>\n",
       "      <td>MCI</td>\n",
       "      <td>EPL</td>\n",
       "      <td>2019.0</td>\n",
       "      <td>-191.52</td>\n",
       "      <td>78.66</td>\n",
       "      <td>-112.86</td>\n",
       "      <td>0.0</td>\n",
       "      <td>0.0</td>\n",
       "      <td>Guardiola</td>\n",
       "      <td>City_Football</td>\n",
       "    </tr>\n",
       "    <tr>\n",
       "      <td>1</td>\n",
       "      <td>MAN</td>\n",
       "      <td>EPL</td>\n",
       "      <td>2019.0</td>\n",
       "      <td>-181.26</td>\n",
       "      <td>79.23</td>\n",
       "      <td>-102.03</td>\n",
       "      <td>0.0</td>\n",
       "      <td>0.0</td>\n",
       "      <td>Solsjkaer</td>\n",
       "      <td>Glazer</td>\n",
       "    </tr>\n",
       "    <tr>\n",
       "      <td>2</td>\n",
       "      <td>ARS</td>\n",
       "      <td>EPL</td>\n",
       "      <td>2019.0</td>\n",
       "      <td>-173.74</td>\n",
       "      <td>61.05</td>\n",
       "      <td>-112.69</td>\n",
       "      <td>0.0</td>\n",
       "      <td>0.0</td>\n",
       "      <td>Emery</td>\n",
       "      <td>Kroenke</td>\n",
       "    </tr>\n",
       "    <tr>\n",
       "      <td>3</td>\n",
       "      <td>AVL</td>\n",
       "      <td>EPL</td>\n",
       "      <td>2019.0</td>\n",
       "      <td>-169.40</td>\n",
       "      <td>0.00</td>\n",
       "      <td>-169.40</td>\n",
       "      <td>0.0</td>\n",
       "      <td>0.0</td>\n",
       "      <td>D_Smith</td>\n",
       "      <td>Sawiris</td>\n",
       "    </tr>\n",
       "    <tr>\n",
       "      <td>4</td>\n",
       "      <td>EVE</td>\n",
       "      <td>EPL</td>\n",
       "      <td>2019.0</td>\n",
       "      <td>-136.69</td>\n",
       "      <td>91.77</td>\n",
       "      <td>-44.92</td>\n",
       "      <td>0.0</td>\n",
       "      <td>0.0</td>\n",
       "      <td>Silva</td>\n",
       "      <td>Moshiri</td>\n",
       "    </tr>\n",
       "  </tbody>\n",
       "</table>\n",
       "</div>"
      ],
      "text/plain": [
       "  Club League  Season  Expenditure  Income     Net  Points  \\\n",
       "0  MCI    EPL  2019.0      -191.52   78.66 -112.86     0.0   \n",
       "1  MAN    EPL  2019.0      -181.26   79.23 -102.03     0.0   \n",
       "2  ARS    EPL  2019.0      -173.74   61.05 -112.69     0.0   \n",
       "3  AVL    EPL  2019.0      -169.40    0.00 -169.40     0.0   \n",
       "4  EVE    EPL  2019.0      -136.69   91.77  -44.92     0.0   \n",
       "\n",
       "   Expenditure per Point    Manager          Owner  \n",
       "0                    0.0  Guardiola  City_Football  \n",
       "1                    0.0  Solsjkaer         Glazer  \n",
       "2                    0.0      Emery        Kroenke  \n",
       "3                    0.0    D_Smith        Sawiris  \n",
       "4                    0.0      Silva        Moshiri  "
      ]
     },
     "execution_count": 34,
     "metadata": {},
     "output_type": "execute_result"
    }
   ],
   "source": [
    "df.head()"
   ]
  },
  {
   "cell_type": "code",
   "execution_count": 35,
   "metadata": {},
   "outputs": [],
   "source": [
    "# choose your target. which column in will you predict? \n",
    "# target: 2019 points\n",
    "\n",
    "target = 'Points'"
   ]
  },
  {
   "cell_type": "code",
   "execution_count": 36,
   "metadata": {},
   "outputs": [],
   "source": [
    "# regression or classification?\n",
    "# regression"
   ]
  },
  {
   "cell_type": "code",
   "execution_count": 37,
   "metadata": {},
   "outputs": [],
   "source": [
    "# evaluation metrics: MAE"
   ]
  },
  {
   "cell_type": "code",
   "execution_count": 38,
   "metadata": {},
   "outputs": [],
   "source": [
    "train = df[df['Season'] < 2018]\n",
    "val = df[df['Season'] == 2018]\n",
    "test = df[df['Season'] == 2019]"
   ]
  },
  {
   "cell_type": "code",
   "execution_count": 39,
   "metadata": {},
   "outputs": [
    {
     "data": {
      "text/plain": [
       "((460, 10), (20, 10), (20, 10))"
      ]
     },
     "execution_count": 39,
     "metadata": {},
     "output_type": "execute_result"
    }
   ],
   "source": [
    "train.shape, val.shape, test.shape"
   ]
  },
  {
   "cell_type": "code",
   "execution_count": 40,
   "metadata": {},
   "outputs": [
    {
     "data": {
      "text/plain": [
       "Club                     1\n",
       "League                   1\n",
       "Season                   1\n",
       "Expenditure              1\n",
       "Income                   1\n",
       "Net                      1\n",
       "Points                   1\n",
       "Expenditure per Point    1\n",
       "Manager                  1\n",
       "Owner                    0\n",
       "dtype: int64"
      ]
     },
     "execution_count": 40,
     "metadata": {},
     "output_type": "execute_result"
    }
   ],
   "source": [
    "# null?\n",
    "df.isna().sum()"
   ]
  },
  {
   "cell_type": "code",
   "execution_count": null,
   "metadata": {},
   "outputs": [],
   "source": []
  },
  {
   "cell_type": "code",
   "execution_count": null,
   "metadata": {},
   "outputs": [],
   "source": []
  },
  {
   "cell_type": "code",
   "execution_count": 41,
   "metadata": {},
   "outputs": [
    {
     "data": {
      "text/plain": [
       "Club                      47\n",
       "League                     1\n",
       "Season                    25\n",
       "Expenditure              461\n",
       "Income                   430\n",
       "Net                      496\n",
       "Points                    76\n",
       "Expenditure per Point    475\n",
       "Manager                  147\n",
       "Owner                     72\n",
       "dtype: int64"
      ]
     },
     "execution_count": 41,
     "metadata": {},
     "output_type": "execute_result"
    }
   ],
   "source": [
    "df.nunique()"
   ]
  },
  {
   "cell_type": "code",
   "execution_count": 42,
   "metadata": {},
   "outputs": [],
   "source": [
    "df.drop(columns='League', inplace=True)"
   ]
  },
  {
   "cell_type": "code",
   "execution_count": 43,
   "metadata": {},
   "outputs": [
    {
     "data": {
      "text/html": [
       "<div>\n",
       "<style scoped>\n",
       "    .dataframe tbody tr th:only-of-type {\n",
       "        vertical-align: middle;\n",
       "    }\n",
       "\n",
       "    .dataframe tbody tr th {\n",
       "        vertical-align: top;\n",
       "    }\n",
       "\n",
       "    .dataframe thead th {\n",
       "        text-align: right;\n",
       "    }\n",
       "</style>\n",
       "<table border=\"1\" class=\"dataframe\">\n",
       "  <thead>\n",
       "    <tr style=\"text-align: right;\">\n",
       "      <th></th>\n",
       "      <th>Club</th>\n",
       "      <th>Season</th>\n",
       "      <th>Expenditure</th>\n",
       "      <th>Income</th>\n",
       "      <th>Net</th>\n",
       "      <th>Points</th>\n",
       "      <th>Expenditure per Point</th>\n",
       "      <th>Manager</th>\n",
       "      <th>Owner</th>\n",
       "    </tr>\n",
       "  </thead>\n",
       "  <tbody>\n",
       "    <tr>\n",
       "      <td>0</td>\n",
       "      <td>MCI</td>\n",
       "      <td>2019.0</td>\n",
       "      <td>-191.52</td>\n",
       "      <td>78.66</td>\n",
       "      <td>-112.86</td>\n",
       "      <td>0.0</td>\n",
       "      <td>0.0</td>\n",
       "      <td>Guardiola</td>\n",
       "      <td>City_Football</td>\n",
       "    </tr>\n",
       "    <tr>\n",
       "      <td>1</td>\n",
       "      <td>MAN</td>\n",
       "      <td>2019.0</td>\n",
       "      <td>-181.26</td>\n",
       "      <td>79.23</td>\n",
       "      <td>-102.03</td>\n",
       "      <td>0.0</td>\n",
       "      <td>0.0</td>\n",
       "      <td>Solsjkaer</td>\n",
       "      <td>Glazer</td>\n",
       "    </tr>\n",
       "    <tr>\n",
       "      <td>2</td>\n",
       "      <td>ARS</td>\n",
       "      <td>2019.0</td>\n",
       "      <td>-173.74</td>\n",
       "      <td>61.05</td>\n",
       "      <td>-112.69</td>\n",
       "      <td>0.0</td>\n",
       "      <td>0.0</td>\n",
       "      <td>Emery</td>\n",
       "      <td>Kroenke</td>\n",
       "    </tr>\n",
       "    <tr>\n",
       "      <td>3</td>\n",
       "      <td>AVL</td>\n",
       "      <td>2019.0</td>\n",
       "      <td>-169.40</td>\n",
       "      <td>0.00</td>\n",
       "      <td>-169.40</td>\n",
       "      <td>0.0</td>\n",
       "      <td>0.0</td>\n",
       "      <td>D_Smith</td>\n",
       "      <td>Sawiris</td>\n",
       "    </tr>\n",
       "    <tr>\n",
       "      <td>4</td>\n",
       "      <td>EVE</td>\n",
       "      <td>2019.0</td>\n",
       "      <td>-136.69</td>\n",
       "      <td>91.77</td>\n",
       "      <td>-44.92</td>\n",
       "      <td>0.0</td>\n",
       "      <td>0.0</td>\n",
       "      <td>Silva</td>\n",
       "      <td>Moshiri</td>\n",
       "    </tr>\n",
       "  </tbody>\n",
       "</table>\n",
       "</div>"
      ],
      "text/plain": [
       "  Club  Season  Expenditure  Income     Net  Points  Expenditure per Point  \\\n",
       "0  MCI  2019.0      -191.52   78.66 -112.86     0.0                    0.0   \n",
       "1  MAN  2019.0      -181.26   79.23 -102.03     0.0                    0.0   \n",
       "2  ARS  2019.0      -173.74   61.05 -112.69     0.0                    0.0   \n",
       "3  AVL  2019.0      -169.40    0.00 -169.40     0.0                    0.0   \n",
       "4  EVE  2019.0      -136.69   91.77  -44.92     0.0                    0.0   \n",
       "\n",
       "     Manager          Owner  \n",
       "0  Guardiola  City_Football  \n",
       "1  Solsjkaer         Glazer  \n",
       "2      Emery        Kroenke  \n",
       "3    D_Smith        Sawiris  \n",
       "4      Silva        Moshiri  "
      ]
     },
     "execution_count": 43,
     "metadata": {},
     "output_type": "execute_result"
    }
   ],
   "source": [
    "df.head()"
   ]
  },
  {
   "cell_type": "code",
   "execution_count": 44,
   "metadata": {},
   "outputs": [
    {
     "data": {
      "text/plain": [
       "<function matplotlib.pyplot.show(*args, **kw)>"
      ]
     },
     "execution_count": 44,
     "metadata": {},
     "output_type": "execute_result"
    },
    {
     "data": {
      "image/png": "[encoded data removed]",
      "text/plain": [
       "<Figure size 432x288 with 1 Axes>"
      ]
     },
     "metadata": {
      "needs_background": "light"
     },
     "output_type": "display_data"
    }
   ],
   "source": [
    "import matplotlib.pyplot as plt\n",
    "plt.scatter(df['Points'], df['Expenditure'].abs())\n",
    "plt.show"
   ]
  },
  {
   "cell_type": "code",
   "execution_count": null,
   "metadata": {},
   "outputs": [],
   "source": []
  },
  {
   "cell_type": "code",
   "execution_count": 45,
   "metadata": {},
   "outputs": [
    {
     "data": {
      "text/plain": [
       "<function matplotlib.pyplot.show(*args, **kw)>"
      ]
     },
     "execution_count": 45,
     "metadata": {},
     "output_type": "execute_result"
    },
    {
     "data": {
      "image/png": "[encoded data removed]",
      "text/plain": [
       "<Figure size 432x288 with 1 Axes>"
      ]
     },
     "metadata": {
      "needs_background": "light"
     },
     "output_type": "display_data"
    }
   ],
   "source": [
    "plt.scatter(df['Points'], df['Income'])\n",
    "plt.show"
   ]
  },
  {
   "cell_type": "code",
   "execution_count": 46,
   "metadata": {},
   "outputs": [
    {
     "data": {
      "text/plain": [
       "Season                   0.000000\n",
       "Expenditure             -2.281499\n",
       "Income                   2.632498\n",
       "Net                     -1.851843\n",
       "Points                  -0.135085\n",
       "Expenditure per Point   -1.958835\n",
       "dtype: float64"
      ]
     },
     "execution_count": 46,
     "metadata": {},
     "output_type": "execute_result"
    }
   ],
   "source": [
    "df.skew()"
   ]
  },
  {
   "cell_type": "code",
   "execution_count": 47,
   "metadata": {},
   "outputs": [
    {
     "data": {
      "text/plain": [
       "<function matplotlib.pyplot.show(*args, **kw)>"
      ]
     },
     "execution_count": 47,
     "metadata": {},
     "output_type": "execute_result"
    },
    {
     "data": {
      "image/png": "[encoded data removed]",
      "text/plain": [
       "<Figure size 432x288 with 1 Axes>"
      ]
     },
     "metadata": {
      "needs_background": "light"
     },
     "output_type": "display_data"
    }
   ],
   "source": [
    "plt.scatter(df['Points'], df['Net'])\n",
    "plt.show"
   ]
  },
  {
   "cell_type": "code",
   "execution_count": 48,
   "metadata": {},
   "outputs": [
    {
     "ename": "NameError",
     "evalue": "name 'bootstrap_plot' is not defined",
     "output_type": "error",
     "traceback": [
      "\u001b[1;31m---------------------------------------------------------------------------\u001b[0m",
      "\u001b[1;31mNameError\u001b[0m                                 Traceback (most recent call last)",
      "\u001b[1;32m<ipython-input-48-00bd6bea6dae>\u001b[0m in \u001b[0;36m<module>\u001b[1;34m\u001b[0m\n\u001b[1;32m----> 1\u001b[1;33m \u001b[0mbootstrap_plot\u001b[0m\u001b[1;33m(\u001b[0m\u001b[0mdf\u001b[0m\u001b[1;33m)\u001b[0m\u001b[1;33m\u001b[0m\u001b[1;33m\u001b[0m\u001b[0m\n\u001b[0m",
      "\u001b[1;31mNameError\u001b[0m: name 'bootstrap_plot' is not defined"
     ]
    }
   ],
   "source": [
    "bootstrap_plot(df)"
   ]
  },
  {
   "cell_type": "code",
   "execution_count": null,
   "metadata": {},
   "outputs": [],
   "source": [
    "import pandas_profiling"
   ]
  },
  {
   "cell_type": "code",
   "execution_count": null,
   "metadata": {},
   "outputs": [],
   "source": [
    "df.profile_report()"
   ]
  },
  {
   "cell_type": "code",
   "execution_count": null,
   "metadata": {},
   "outputs": [],
   "source": []
  }
 ],
 "metadata": {
  "kernelspec": {
   "display_name": "Python 3",
   "language": "python",
   "name": "python3"
  },
  "language_info": {
   "codemirror_mode": {
    "name": "ipython",
    "version": 3
   },
   "file_extension": ".py",
   "mimetype": "text/x-python",
   "name": "python",
   "nbconvert_exporter": "python",
   "pygments_lexer": "ipython3",
   "version": "3.7.4"
  }
 },
 "nbformat": 4,
 "nbformat_minor": 4
}
